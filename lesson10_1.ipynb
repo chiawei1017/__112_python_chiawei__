{
 "cells": [
  {
   "cell_type": "code",
   "execution_count": 27,
   "metadata": {},
   "outputs": [
    {
     "data": {
      "text/plain": [
       "[[97, 59, 57, 87, 83],\n",
       " [63, 54, 99, 100, 69],\n",
       " [75, 96, 96, 50, 53],\n",
       " [96, 73, 95, 87, 98],\n",
       " [94, 65, 69, 64, 67],\n",
       " [71, 53, 56, 61, 65],\n",
       " [54, 88, 96, 50, 57],\n",
       " [80, 75, 81, 64, 81],\n",
       " [58, 67, 56, 78, 57],\n",
       " [95, 92, 61, 87, 72]]"
      ]
     },
     "execution_count": 27,
     "metadata": {},
     "output_type": "execute_result"
    }
   ],
   "source": [
    "import random\n",
    "def createStudent()->list[int]: #用function的作法, def一個createStudent的函式\n",
    "                                #設定為整數int\n",
    "    stu = []\n",
    "    for _ in range(5):\n",
    "        score = (random.randint(50,100))\n",
    "        stu.append(score)\n",
    "    return stu  #傳回運算的結果至stu\n",
    "\n",
    "def createClasses(number:int)->list[int]:\n",
    "    classes = []\n",
    "    for _ in range(number):\n",
    "        stu = createStudent()\n",
    "        classes.append(stu)\n",
    "    return classes\n",
    "\n",
    "createClasses(10)"
   ]
  },
  {
   "cell_type": "code",
   "execution_count": 24,
   "metadata": {},
   "outputs": [],
   "source": [
    "#存檔\n",
    "import csv\n",
    "file = open('students.csv',mode='w',encoding='utf-8',newline='') #開啟 file 並回傳對應的 file object\n",
    "csv_writer = csv.writer(file) #csv.writer() 將使用者的資料()轉換為分隔字串\n",
    "csv_writer.writerow([\"國文\",\"英文\",\"數學\",\"地理\",\"歷史\"])\n",
    "csv_writer.writerows(stundents)\n",
    "\n",
    "file.close()"
   ]
  }
 ],
 "metadata": {
  "kernelspec": {
   "display_name": "Python 3",
   "language": "python",
   "name": "python3"
  },
  "language_info": {
   "codemirror_mode": {
    "name": "ipython",
    "version": 3
   },
   "file_extension": ".py",
   "mimetype": "text/x-python",
   "name": "python",
   "nbconvert_exporter": "python",
   "pygments_lexer": "ipython3",
   "version": "3.10.13"
  }
 },
 "nbformat": 4,
 "nbformat_minor": 2
}
