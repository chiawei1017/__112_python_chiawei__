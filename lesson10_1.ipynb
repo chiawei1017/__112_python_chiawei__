{
 "cells": [
  {
   "cell_type": "code",
   "execution_count": 1,
   "metadata": {},
   "outputs": [
    {
     "data": {
      "text/plain": [
       "[[90, 61, 79, 60, 52],\n",
       " [88, 54, 68, 73, 97],\n",
       " [74, 82, 67, 58, 67],\n",
       " [95, 64, 92, 71, 60],\n",
       " [77, 76, 61, 82, 85],\n",
       " [68, 86, 91, 99, 82],\n",
       " [67, 68, 72, 91, 88],\n",
       " [58, 100, 86, 84, 85],\n",
       " [81, 63, 51, 96, 60],\n",
       " [72, 85, 83, 58, 72]]"
      ]
     },
     "execution_count": 1,
     "metadata": {},
     "output_type": "execute_result"
    }
   ],
   "source": [
    "import random\n",
    "def createStudent()->list[int]: #用function的作法, def一個createStudent的函式\n",
    "                                #設定為整數int\n",
    "    stu = []\n",
    "    for _ in range(5):\n",
    "        score = (random.randint(50,100))\n",
    "        stu.append(score)\n",
    "    return stu  #傳回運算的結果至stu\n",
    "\n",
    "def createClasses(number:int)->list[int]:\n",
    "    classes = []\n",
    "    for _ in range(number):\n",
    "        stu = createStudent()\n",
    "        classes.append(stu)\n",
    "    return classes\n",
    "\n",
    "createClasses(10)"
   ]
  },
  {
   "cell_type": "code",
   "execution_count": 2,
   "metadata": {},
   "outputs": [],
   "source": [
    "#存檔\n",
    "file = open('students.csv',mode='w',encoding='utf-8',newline='')\n",
    "file.write(\"這是測試\")\n",
    "file.close()"
   ]
  }
 ],
 "metadata": {
  "kernelspec": {
   "display_name": "Python 3",
   "language": "python",
   "name": "python3"
  },
  "language_info": {
   "codemirror_mode": {
    "name": "ipython",
    "version": 3
   },
   "file_extension": ".py",
   "mimetype": "text/x-python",
   "name": "python",
   "nbconvert_exporter": "python",
   "pygments_lexer": "ipython3",
   "version": "3.10.13"
  }
 },
 "nbformat": 4,
 "nbformat_minor": 2
}
