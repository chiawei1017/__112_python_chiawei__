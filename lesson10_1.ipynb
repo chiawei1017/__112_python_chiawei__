{
 "cells": [
  {
   "cell_type": "code",
   "execution_count": 7,
   "metadata": {},
   "outputs": [
    {
     "data": {
      "text/plain": [
       "[[80, 70, 58, 80, 72],\n",
       " [73, 82, 85, 79, 77],\n",
       " [53, 58, 52, 82, 91],\n",
       " [87, 80, 87, 77, 50],\n",
       " [87, 58, 54, 73, 56],\n",
       " [56, 66, 60, 65, 77],\n",
       " [67, 62, 66, 77, 99],\n",
       " [76, 73, 64, 99, 64],\n",
       " [92, 81, 51, 81, 68],\n",
       " [80, 73, 74, 52, 89]]"
      ]
     },
     "execution_count": 7,
     "metadata": {},
     "output_type": "execute_result"
    }
   ],
   "source": [
    "import random\n",
    "def createStudent()->list[int]: #用function的作法, def一個createStudent的函式\n",
    "                                #設定為整數int\n",
    "    stu = []\n",
    "    for _ in range(5):\n",
    "        score = (random.randint(50,100))\n",
    "        stu.append(score)\n",
    "    return stu  #傳回運算的結果至stu\n",
    "\n",
    "def createClasses(number:int)->list[int]:\n",
    "    classes = []\n",
    "    for _ in range(number):\n",
    "        stu = createStudent()\n",
    "        classes.append(stu)\n",
    "    return classes\n",
    "\n",
    "createClasses(10)"
   ]
  },
  {
   "cell_type": "code",
   "execution_count": 12,
   "metadata": {},
   "outputs": [],
   "source": [
    "#存檔\n",
    "import csv\n",
    "file = open('students.csv',mode='w',encoding='utf-8',newline='')\n",
    "csv_writer = csv.writer(file)\n",
    "csv_writer.writerow([\"國文\",\"英文\",\"數學\",\"地理\",\"歷史\"])\n",
    "csv_writer.writerows(stundents)\n",
    "\n",
    "file.close()"
   ]
  }
 ],
 "metadata": {
  "kernelspec": {
   "display_name": "Python 3",
   "language": "python",
   "name": "python3"
  },
  "language_info": {
   "codemirror_mode": {
    "name": "ipython",
    "version": 3
   },
   "file_extension": ".py",
   "mimetype": "text/x-python",
   "name": "python",
   "nbconvert_exporter": "python",
   "pygments_lexer": "ipython3",
   "version": "3.10.13"
  }
 },
 "nbformat": 4,
 "nbformat_minor": 2
}
