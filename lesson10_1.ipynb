{
 "cells": [
  {
   "cell_type": "code",
   "execution_count": 38,
   "metadata": {},
   "outputs": [],
   "source": [
    "import random\n",
    "def createStudent()->list[int]: #用function的作法, def一個createStudent的函式 #設定為整數int\n",
    "    stu = []\n",
    "    for _ in range(5):\n",
    "        score = random.randint(50,100)\n",
    "        stu.append(score)\n",
    "    return stu  #傳回運算的結果至stu\n",
    "\n",
    "def createClasses(numbers:int)->list[int]:\n",
    "    classes = []\n",
    "    for _ in range(numbers):\n",
    "        stu = createStudent()\n",
    "        classes.append(stu)\n",
    "    return classes\n",
    "\n",
    "students = createClasses(50)"
   ]
  },
  {
   "cell_type": "code",
   "execution_count": 36,
   "metadata": {},
   "outputs": [],
   "source": [
    "#存檔\n",
    "import csv\n",
    "file = open('students.csv',mode='w',encoding='utf-8',newline='') #開啟 file 並回傳對應的 file object\n",
    "csv_writer = csv.writer(file) #csv.writer() 將使用者的資料()轉換為分隔字串\n",
    "csv_writer.writerow([\"國文\",\"英文\",\"數學\",\"地理\",\"歷史\"])\n",
    "csv_writer.writerows(students)\n",
    "\n",
    "file.close()"
   ]
  }
 ],
 "metadata": {
  "kernelspec": {
   "display_name": "Python 3",
   "language": "python",
   "name": "python3"
  },
  "language_info": {
   "codemirror_mode": {
    "name": "ipython",
    "version": 3
   },
   "file_extension": ".py",
   "mimetype": "text/x-python",
   "name": "python",
   "nbconvert_exporter": "python",
   "pygments_lexer": "ipython3",
   "version": "3.10.13"
  }
 },
 "nbformat": 4,
 "nbformat_minor": 2
}
