{
 "cells": [
  {
   "cell_type": "code",
   "execution_count": 14,
   "metadata": {},
   "outputs": [
    {
     "name": "stdout",
     "output_type": "stream",
     "text": [
      "請輸入學生分數(最高300分):\n",
      "學生Robert分數為270\n"
     ]
    }
   ],
   "source": [
    "#學生總分為300\n",
    "import pyinputplus as pyip\n",
    "\n",
    "scores = pyip.inputInt(\"請輸入學生分數(最高300分):\")\n",
    "name = \"Robert\"\n",
    "print()\n",
    "if scores <= 300:\n",
    "    print(f\"學生{name}分數為{scores}\" ) #字串插補\n",
    "else:\n",
    "    print(f\"豬頭, 不可以超過300\")"
   ]
  },
  {
   "cell_type": "code",
   "execution_count": 17,
   "metadata": {},
   "outputs": [
    {
     "name": "stdout",
     "output_type": "stream",
     "text": [
      "請輸入學生分數(最高300分):\n",
      "學生Robert分數為299\n"
     ]
    }
   ],
   "source": [
    "#學生總分為300\n",
    "\n",
    "\n",
    "import pyinputplus as pyip\n",
    "\n",
    "scores = pyip.inputInt(\"請輸入學生分數(最高300分):\", min=0, max=300)\n",
    "name = \"Robert\"\n",
    "print()\n",
    "print(f\"學生{name}分數為{scores}\")"
   ]
  },
  {
   "cell_type": "code",
   "execution_count": 27,
   "metadata": {},
   "outputs": [
    {
     "name": "stdout",
     "output_type": "stream",
     "text": [
      "請輸入學生分數(最高300分):270\n",
      "學生是否符合加分條件(請選擇1或2)?\n",
      "1. y\n",
      "2. n\n",
      "不加分\n"
     ]
    }
   ],
   "source": [
    "#學生總分為300\n",
    "#有些學生可以加分5%\n",
    "#如果加分超過300，就以300為準\n",
    "\n",
    "import pyinputplus as pyip\n",
    "\n",
    "scores = pyip.inputInt(\"請輸入學生分數(最高300分):\", min=0, max=300)\n",
    "print(scores)\n",
    "isYes = pyip.inputMenu([\"y\",\"n\"],prompt=\"學生是否符合加分條件(請選擇1或2)?\\n\",numbered=True)\n",
    "\n",
    "if isYes == \"y\":\n",
    "    print(\"加分\")\n",
    "else:\n",
    "    print(\"不加分\")\n"
   ]
  }
 ],
 "metadata": {
  "kernelspec": {
   "display_name": "Python 3",
   "language": "python",
   "name": "python3"
  },
  "language_info": {
   "codemirror_mode": {
    "name": "ipython",
    "version": 3
   },
   "file_extension": ".py",
   "mimetype": "text/x-python",
   "name": "python",
   "nbconvert_exporter": "python",
   "pygments_lexer": "ipython3",
   "version": "3.10.13"
  }
 },
 "nbformat": 4,
 "nbformat_minor": 2
}
