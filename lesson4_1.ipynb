{
 "cells": [
  {
   "cell_type": "code",
   "execution_count": 14,
   "metadata": {},
   "outputs": [
    {
     "name": "stdout",
     "output_type": "stream",
     "text": [
      "請輸入學生分數(最高300分):\n",
      "學生Robert分數為270\n"
     ]
    }
   ],
   "source": [
    "#學生總分為300\n",
    "import pyinputplus as pyip\n",
    "\n",
    "scores = pyip.inputInt(\"請輸入學生分數(最高300分):\")\n",
    "name = \"Robert\"\n",
    "print()\n",
    "if scores <= 300:\n",
    "    print(f\"學生{name}分數為{scores}\" ) #字串插補\n",
    "else:\n",
    "    print(f\"豬頭, 不可以超過300\")"
   ]
  },
  {
   "cell_type": "code",
   "execution_count": 17,
   "metadata": {},
   "outputs": [
    {
     "name": "stdout",
     "output_type": "stream",
     "text": [
      "請輸入學生分數(最高300分):\n",
      "學生Robert分數為299\n"
     ]
    }
   ],
   "source": [
    "#學生總分為300\n",
    "\n",
    "\n",
    "import pyinputplus as pyip\n",
    "\n",
    "scores = pyip.inputInt(\"請輸入學生分數(最高300分):\", min=0, max=300)\n",
    "name = \"Robert\"\n",
    "print()\n",
    "print(f\"學生{name}分數為{scores}\")"
   ]
  },
  {
   "cell_type": "code",
   "execution_count": 30,
   "metadata": {},
   "outputs": [
    {
     "name": "stdout",
     "output_type": "stream",
     "text": [
      "請輸入學生分數(最高300分):277\n",
      "學生是否符合加分條件(請選擇1或2)?\n",
      "1. y\n",
      "2. n\n",
      "加分\n"
     ]
    }
   ],
   "source": [
    "#學生總分為300\n",
    "#有些學生可以加分5%\n",
    "#如果加分超過300，就以300為準\n",
    "\n",
    "import pyinputplus as pyip\n",
    "\n",
    "scores = pyip.inputInt(\"請輸入學生分數(最高300分):\", min=0, max=300)\n",
    "print(scores)\n",
    "isYes = pyip.inputMenu([\"y\",\"n\"],prompt=\"學生是否符合加分條件(請選擇1或2)?\\n\",numbered=True)\n",
    "\n",
    "if isYes == \"y\":\n",
    "    print(\"加分\")\n",
    "else:\n",
    "    print(\"不加分\")\n"
   ]
  },
  {
   "cell_type": "code",
   "execution_count": 1,
   "metadata": {},
   "outputs": [
    {
     "name": "stdout",
     "output_type": "stream",
     "text": [
      "請輸入學生分數(最高300分):280\n",
      "學生是否符合加分條件(請選擇1或2)?\n",
      "1. y\n",
      "2. n\n",
      "學生分數為294.0\n"
     ]
    }
   ],
   "source": [
    "#學生總分為300\n",
    "#有些學生可以加分5%\n",
    "#如果加分超過300，就以300為準\n",
    "\n",
    "import pyinputplus as pyip\n",
    "\n",
    "scores = pyip.inputInt(\"請輸入學生分數(最高300分):\", min=0, max=300)\n",
    "print(scores)\n",
    "isYes = pyip.inputMenu([\"y\",\"n\"],prompt=\"學生是否符合加分條件(請選擇1或2)?\\n\",numbered=True)\n",
    "\n",
    "if isYes == \"y\":\n",
    "    scores *= 1.05\n",
    "    if scores > 300:\n",
    "        scores = 300\n",
    "    \n",
    "print(f\"學生分數為{scores}\")"
   ]
  },
  {
   "cell_type": "code",
   "execution_count": 12,
   "metadata": {},
   "outputs": [
    {
     "name": "stdout",
     "output_type": "stream",
     "text": [
      "-6\n",
      "虛數\n"
     ]
    }
   ],
   "source": [
    "#巢狀選擇\n",
    "#* 如果x不是負數，則傳回值為 x ** (1/y)\n",
    "#* 如果x是負數而且為偶數，則傳回值為\"虛數\"\n",
    "#* 如果x是負數而且為奇數，則傳回值為 -(-x) ** (1/y)\n",
    "\n",
    "x = int(input (\"請輸入x值\"))\n",
    "print (x)\n",
    "y = 2\n",
    "if x >= 0:\n",
    "    print(\"不是負數\")\n",
    "    root = x ** (1/y)\n",
    "else:\n",
    "    if x % 2 == 0:\n",
    "        root = \"虛數\"\n",
    "    else:\n",
    "        root = -(-x) ** (1/y)\n",
    "print(root)"
   ]
  },
  {
   "cell_type": "code",
   "execution_count": 17,
   "metadata": {},
   "outputs": [
    {
     "name": "stdout",
     "output_type": "stream",
     "text": [
      "請輸入分數Number must be at maximum 100.\n",
      "請輸入分數90\n",
      "優\n"
     ]
    }
   ],
   "source": [
    "import pyinputplus as pyip\n",
    "\n",
    "(scores) = pyip.inputInt((\"請輸入分數\"), min=0, max=100)\n",
    "print(scores)\n",
    "\n",
    "if scores < 60:\n",
    "    print(\"不及格\")\n",
    "else:\n",
    "    if scores >= 80:\n",
    "        print(\"優\")\n",
    "    else:\n",
    "        print(\"甲\")"
   ]
  },
  {
   "cell_type": "code",
   "execution_count": 46,
   "metadata": {},
   "outputs": [
    {
     "name": "stdout",
     "output_type": "stream",
     "text": [
      "請輸入分數90.56\n",
      "優\n"
     ]
    }
   ],
   "source": [
    "import pyinputplus as pyip\n",
    "\n",
    "(scores) = pyip.inputFloat((\"請輸入分數\"), min=0, max=100)\n",
    "print(round(scores,2))\n",
    "\n",
    "if scores == 100:\n",
    "        print(\"滿分\")\n",
    "elif scores >= 90:\n",
    "        print(\"優\")\n",
    "elif scores >= 80:\n",
    "        print(\"甲\")\n",
    "elif scores >= 70:\n",
    "        print(\"乙\")\n",
    "elif scores >= 60:\n",
    "        print(\"丙\")\n",
    "else:\n",
    "        print(\"丁\")"
   ]
  },
  {
   "cell_type": "code",
   "execution_count": 62,
   "metadata": {},
   "outputs": [
    {
     "name": "stdout",
     "output_type": "stream",
     "text": [
      "{104000.0, '實付金額'}\n"
     ]
    }
   ],
   "source": [
    "#輸入顧客購買金額，若金額在\n",
    "#100000元打8折，\n",
    "#50000元打85折，\n",
    "#30000元打9折，\n",
    "#10000元打95折，\n",
    "\n",
    "#請輸入購買金額: 130000元\n",
    "#實付金額是: 104000.0元\n",
    "\n",
    "#price = input(\"購買金額\")\n",
    "#print(int(price))\n",
    "price =130000\n",
    "if price >= 100000:\n",
    "    price = price*0.8\n",
    "    print({\"實付金額\",price})\n",
    "elif price >=50000:\n",
    "    price = price*0.85\n",
    "    print({\"實付金額\",price})\n",
    "elif price >=30000:\n",
    "    price = price*0.9\n",
    "    print({\"實付金額\",price})\n",
    "elif price >=10000:\n",
    "    price = price*0.95\n",
    "    print({\"實付金額\",price})\n"
   ]
  }
 ],
 "metadata": {
  "kernelspec": {
   "display_name": "Python 3",
   "language": "python",
   "name": "python3"
  },
  "language_info": {
   "codemirror_mode": {
    "name": "ipython",
    "version": 3
   },
   "file_extension": ".py",
   "mimetype": "text/x-python",
   "name": "python",
   "nbconvert_exporter": "python",
   "pygments_lexer": "ipython3",
   "version": "3.10.13"
  }
 },
 "nbformat": 4,
 "nbformat_minor": 2
}
