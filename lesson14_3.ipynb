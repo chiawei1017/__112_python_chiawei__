{
 "cells": [
  {
   "cell_type": "code",
   "execution_count": 26,
   "metadata": {},
   "outputs": [],
   "source": [
    "import numpy as np\n",
    "import pandas as pd\n",
    "scores = np.random.randint(50, 100,size=(50,5))\n",
    "scores_df = pd.DataFrame(scores,\n",
    "             columns=['國文','英文','數學','地理','歷史'],\n",
    "             index=range(1,51))\n",
    "sum_values = scores_df.sum(axis=1)\n",
    "mean_values = scores_df.mean(axis=1)\n",
    "scores_df['總分'] = sum_values\n",
    "scores_df['平均'] = mean_values\n"
   ]
  },
  {
   "cell_type": "code",
   "execution_count": 9,
   "metadata": {},
   "outputs": [],
   "source": [
    "scores_df\n",
    "scores_df.style\\\n",
    "    .format(precision=2)\\\n",
    "    .highlight_between(left=50,right=59)\\\n",
    "    .to_excel('abc.xlsx')"
   ]
  },
  {
   "cell_type": "code",
   "execution_count": 27,
   "metadata": {},
   "outputs": [],
   "source": [
    "scores_df\n",
    "pdstyle = scores_df.style\\\n",
    "    .format(precision=2)\\\n",
    "    .highlight_between(left=50,right=59,props='color:white; background-color:#E83015;')\\\n",
    "    .highlight_max(axis=1,subset=scores_df.columns[:5],props='color:white; background-color:#7BA23F;')\\\n",
    "    .to_excel('天龍國小.xlsx',sheet_name='3年1班')\n",
    "    "
   ]
  },
  {
   "cell_type": "code",
   "execution_count": null,
   "metadata": {},
   "outputs": [],
   "source": [
    "#未完成，要將新的excel sheet加入檔案，而不是覆蓋原有的sheet\n",
    "\n",
    "from openpyxl import load_workbook\n",
    "book = load_workbook('天龍國小.xlsx')\n",
    "writer = pd.ExcelWriter('天龍國小.xlsx',engine='openpyxl')\n",
    "writer.book = book\n",
    "writer.sheets = dict\n",
    "pdstyle.to_excel(writter,sheet_name='3年2班')"
   ]
  }
 ],
 "metadata": {
  "kernelspec": {
   "display_name": "Python 3",
   "language": "python",
   "name": "python3"
  },
  "language_info": {
   "codemirror_mode": {
    "name": "ipython",
    "version": 3
   },
   "file_extension": ".py",
   "mimetype": "text/x-python",
   "name": "python",
   "nbconvert_exporter": "python",
   "pygments_lexer": "ipython3",
   "version": "3.10.13"
  }
 },
 "nbformat": 4,
 "nbformat_minor": 2
}
