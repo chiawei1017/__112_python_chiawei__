{
 "cells": [
  {
   "cell_type": "code",
   "execution_count": 3,
   "metadata": {},
   "outputs": [
    {
     "data": {
      "text/html": [
       "<div>\n",
       "<style scoped>\n",
       "    .dataframe tbody tr th:only-of-type {\n",
       "        vertical-align: middle;\n",
       "    }\n",
       "\n",
       "    .dataframe tbody tr th {\n",
       "        vertical-align: top;\n",
       "    }\n",
       "\n",
       "    .dataframe thead th {\n",
       "        text-align: right;\n",
       "    }\n",
       "</style>\n",
       "<table border=\"1\" class=\"dataframe\">\n",
       "  <thead>\n",
       "    <tr style=\"text-align: right;\">\n",
       "      <th></th>\n",
       "      <th>d</th>\n",
       "      <th>f</th>\n",
       "      <th>e</th>\n",
       "    </tr>\n",
       "  </thead>\n",
       "  <tbody>\n",
       "    <tr>\n",
       "      <th>台北</th>\n",
       "      <td>0.580731</td>\n",
       "      <td>-0.462422</td>\n",
       "      <td>-2.511252</td>\n",
       "    </tr>\n",
       "    <tr>\n",
       "      <th>台中</th>\n",
       "      <td>0.836628</td>\n",
       "      <td>1.415079</td>\n",
       "      <td>0.714221</td>\n",
       "    </tr>\n",
       "    <tr>\n",
       "      <th>台南</th>\n",
       "      <td>2.582635</td>\n",
       "      <td>-1.138761</td>\n",
       "      <td>-1.268294</td>\n",
       "    </tr>\n",
       "    <tr>\n",
       "      <th>高雄</th>\n",
       "      <td>-0.179207</td>\n",
       "      <td>-0.162695</td>\n",
       "      <td>-1.356047</td>\n",
       "    </tr>\n",
       "  </tbody>\n",
       "</table>\n",
       "</div>"
      ],
      "text/plain": [
       "           d         f         e\n",
       "台北  0.580731 -0.462422 -2.511252\n",
       "台中  0.836628  1.415079  0.714221\n",
       "台南  2.582635 -1.138761 -1.268294\n",
       "高雄 -0.179207 -0.162695 -1.356047"
      ]
     },
     "execution_count": 3,
     "metadata": {},
     "output_type": "execute_result"
    }
   ],
   "source": [
    "import numpy as np\n",
    "import pandas as pd\n",
    "\n",
    "frame = pd.DataFrame(np.random.randn(4,3),\n",
    "             columns=['d','f','e'],\n",
    "             index=['台北','台中','台南','高雄']\n",
    "             )\n",
    "frame"
   ]
  },
  {
   "cell_type": "code",
   "execution_count": 4,
   "metadata": {},
   "outputs": [
    {
     "data": {
      "text/html": [
       "<div>\n",
       "<style scoped>\n",
       "    .dataframe tbody tr th:only-of-type {\n",
       "        vertical-align: middle;\n",
       "    }\n",
       "\n",
       "    .dataframe tbody tr th {\n",
       "        vertical-align: top;\n",
       "    }\n",
       "\n",
       "    .dataframe thead th {\n",
       "        text-align: right;\n",
       "    }\n",
       "</style>\n",
       "<table border=\"1\" class=\"dataframe\">\n",
       "  <thead>\n",
       "    <tr style=\"text-align: right;\">\n",
       "      <th></th>\n",
       "      <th>d</th>\n",
       "      <th>f</th>\n",
       "      <th>e</th>\n",
       "    </tr>\n",
       "  </thead>\n",
       "  <tbody>\n",
       "    <tr>\n",
       "      <th>台北</th>\n",
       "      <td>0.580731</td>\n",
       "      <td>0.462422</td>\n",
       "      <td>2.511252</td>\n",
       "    </tr>\n",
       "    <tr>\n",
       "      <th>台中</th>\n",
       "      <td>0.836628</td>\n",
       "      <td>1.415079</td>\n",
       "      <td>0.714221</td>\n",
       "    </tr>\n",
       "    <tr>\n",
       "      <th>台南</th>\n",
       "      <td>2.582635</td>\n",
       "      <td>1.138761</td>\n",
       "      <td>1.268294</td>\n",
       "    </tr>\n",
       "    <tr>\n",
       "      <th>高雄</th>\n",
       "      <td>0.179207</td>\n",
       "      <td>0.162695</td>\n",
       "      <td>1.356047</td>\n",
       "    </tr>\n",
       "  </tbody>\n",
       "</table>\n",
       "</div>"
      ],
      "text/plain": [
       "           d         f         e\n",
       "台北  0.580731  0.462422  2.511252\n",
       "台中  0.836628  1.415079  0.714221\n",
       "台南  2.582635  1.138761  1.268294\n",
       "高雄  0.179207  0.162695  1.356047"
      ]
     },
     "execution_count": 4,
     "metadata": {},
     "output_type": "execute_result"
    }
   ],
   "source": [
    "np.absolute(frame)"
   ]
  },
  {
   "cell_type": "code",
   "execution_count": 7,
   "metadata": {},
   "outputs": [
    {
     "name": "stdout",
     "output_type": "stream",
     "text": [
      "台北    0.580731\n",
      "台中    0.836628\n",
      "台南    2.582635\n",
      "高雄   -0.179207\n",
      "Name: d, dtype: float64\n",
      "台北   -0.462422\n",
      "台中    1.415079\n",
      "台南   -1.138761\n",
      "高雄   -0.162695\n",
      "Name: f, dtype: float64\n",
      "台北   -2.511252\n",
      "台中    0.714221\n",
      "台南   -1.268294\n",
      "高雄   -1.356047\n",
      "Name: e, dtype: float64\n"
     ]
    }
   ],
   "source": [
    "for item in frame:\n",
    "    print(frame[item])"
   ]
  },
  {
   "cell_type": "code",
   "execution_count": 8,
   "metadata": {},
   "outputs": [
    {
     "name": "stdout",
     "output_type": "stream",
     "text": [
      "0.5807309745123798\n",
      "0.8366277692147532\n",
      "2.5826349227567675\n",
      "-0.1792074530872668\n",
      "======\n",
      "-0.46242154097023075\n",
      "1.4150785303103552\n",
      "-1.1387611343623778\n",
      "-0.16269505216453745\n",
      "======\n",
      "-2.511251903266743\n",
      "0.7142206594687418\n",
      "-1.268294007968692\n",
      "-1.3560472385755884\n",
      "======\n"
     ]
    }
   ],
   "source": [
    "#使用for in 讀取DataFrame資料\n",
    "for column in frame:\n",
    "    for item in frame[column]:\n",
    "        print(item)\n",
    "    print(\"======\")"
   ]
  },
  {
   "cell_type": "code",
   "execution_count": 9,
   "metadata": {},
   "outputs": [
    {
     "name": "stdout",
     "output_type": "stream",
     "text": [
      "台北    0.580731\n",
      "台中    0.836628\n",
      "台南    2.582635\n",
      "高雄    0.179207\n",
      "Name: d, dtype: float64\n",
      "台北    0.462422\n",
      "台中    1.415079\n",
      "台南    1.138761\n",
      "高雄    0.162695\n",
      "Name: f, dtype: float64\n",
      "台北    2.511252\n",
      "台中    0.714221\n",
      "台南    1.268294\n",
      "高雄    1.356047\n",
      "Name: e, dtype: float64\n"
     ]
    }
   ],
   "source": [
    "#使用for in 讀取DataFrame資料\n",
    "for column in frame:\n",
    "    print(np.abs(frame[column]))\n"
   ]
  },
  {
   "cell_type": "code",
   "execution_count": 11,
   "metadata": {},
   "outputs": [
    {
     "data": {
      "text/plain": [
       "d    2.582635\n",
       "f    1.415079\n",
       "e    0.714221\n",
       "dtype: float64"
      ]
     },
     "execution_count": 11,
     "metadata": {},
     "output_type": "execute_result"
    }
   ],
   "source": [
    "np.max(frame,axis=0)"
   ]
  },
  {
   "cell_type": "code",
   "execution_count": 19,
   "metadata": {},
   "outputs": [
    {
     "data": {
      "text/plain": [
       "台北    0.580731\n",
       "台中    1.415079\n",
       "台南    2.582635\n",
       "高雄   -0.162695\n",
       "dtype: float64"
      ]
     },
     "execution_count": 19,
     "metadata": {},
     "output_type": "execute_result"
    }
   ],
   "source": [
    "np.max(frame,axis=1)"
   ]
  },
  {
   "cell_type": "code",
   "execution_count": 13,
   "metadata": {},
   "outputs": [
    {
     "data": {
      "text/plain": [
       "d    2.761842\n",
       "f    2.553840\n",
       "e    3.225473\n",
       "dtype: float64"
      ]
     },
     "execution_count": 13,
     "metadata": {},
     "output_type": "execute_result"
    }
   ],
   "source": [
    "#使用numpy的function\n",
    "np.max(frame,axis=0) - np.min(frame,axis=0)"
   ]
  },
  {
   "cell_type": "code",
   "execution_count": 15,
   "metadata": {},
   "outputs": [
    {
     "data": {
      "text/plain": [
       "d    2.761842\n",
       "f    2.553840\n",
       "e    3.225473\n",
       "dtype: float64"
      ]
     },
     "execution_count": 15,
     "metadata": {},
     "output_type": "execute_result"
    }
   ],
   "source": [
    "#使用dataFrame的method\n",
    "frame.max(axis=0) - frame.min(axis=0)\n",
    "\n"
   ]
  },
  {
   "cell_type": "code",
   "execution_count": 20,
   "metadata": {},
   "outputs": [
    {
     "name": "stdout",
     "output_type": "stream",
     "text": [
      "d\n",
      "f\n",
      "e\n"
     ]
    },
    {
     "data": {
      "text/plain": [
       "d    3.761842\n",
       "f    3.553840\n",
       "e    4.225473\n",
       "dtype: float64"
      ]
     },
     "execution_count": 20,
     "metadata": {},
     "output_type": "execute_result"
    }
   ],
   "source": [
    "def fun1(series):\n",
    "    print(series.name)\n",
    "    return series.max() - series.min() + 1\n",
    "\n",
    "frame.apply(fun1)\n",
    "\n"
   ]
  }
 ],
 "metadata": {
  "kernelspec": {
   "display_name": "Python 3",
   "language": "python",
   "name": "python3"
  },
  "language_info": {
   "codemirror_mode": {
    "name": "ipython",
    "version": 3
   },
   "file_extension": ".py",
   "mimetype": "text/x-python",
   "name": "python",
   "nbconvert_exporter": "python",
   "pygments_lexer": "ipython3",
   "version": "3.10.13"
  }
 },
 "nbformat": 4,
 "nbformat_minor": 2
}
