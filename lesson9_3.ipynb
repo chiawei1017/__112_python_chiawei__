{
 "cells": [
  {
   "cell_type": "code",
   "execution_count": 2,
   "metadata": {},
   "outputs": [],
   "source": [
    "#建立每個學生的分數list\n",
    "stu1 = [78, 92, 65, 86, 74]\n",
    "stu2 = [78, 95, 63, 72, 74]\n",
    "stu3 = [62, 55, 73, 93, 64]"
   ]
  },
  {
   "cell_type": "code",
   "execution_count": 3,
   "metadata": {},
   "outputs": [
    {
     "data": {
      "text/plain": [
       "[[78, 92, 65, 86, 74], [78, 95, 63, 72, 74], [62, 55, 73, 93, 64]]"
      ]
     },
     "execution_count": 3,
     "metadata": {},
     "output_type": "execute_result"
    }
   ],
   "source": [
    "#建立全部學生的list，直接建立\n",
    "students = [stu1, stu2, stu3]\n",
    "students"
   ]
  },
  {
   "cell_type": "code",
   "execution_count": 4,
   "metadata": {},
   "outputs": [
    {
     "data": {
      "text/plain": [
       "[[78, 92, 65, 86, 74], [78, 95, 63, 72, 74], [62, 55, 73, 93, 64]]"
      ]
     },
     "execution_count": 4,
     "metadata": {},
     "output_type": "execute_result"
    }
   ],
   "source": [
    "#建立全部學生的list，用.append加入個別學生\n",
    "students = list()\n",
    "students.append(stu1)\n",
    "students.append(stu2)\n",
    "students.append(stu3)\n",
    "students\n"
   ]
  },
  {
   "cell_type": "code",
   "execution_count": 7,
   "metadata": {},
   "outputs": [
    {
     "data": {
      "text/plain": [
       "[]"
      ]
     },
     "execution_count": 7,
     "metadata": {},
     "output_type": "execute_result"
    }
   ],
   "source": [
    "students.clear()\n",
    "students"
   ]
  },
  {
   "cell_type": "code",
   "execution_count": 8,
   "metadata": {},
   "outputs": [
    {
     "data": {
      "text/plain": [
       "[[78, 92, 65, 86, 74], [78, 95, 63, 72, 74], [62, 55, 73, 93, 64]]"
      ]
     },
     "execution_count": 8,
     "metadata": {},
     "output_type": "execute_result"
    }
   ],
   "source": [
    "students = list()\n",
    "students.append(stu1)\n",
    "students.append(stu2)\n",
    "students.append(stu3)\n",
    "students"
   ]
  },
  {
   "cell_type": "code",
   "execution_count": 9,
   "metadata": {},
   "outputs": [
    {
     "data": {
      "text/plain": [
       "[[78, 92, 65, 86, 74], [78, 95, 63, 72, 74]]"
      ]
     },
     "execution_count": 9,
     "metadata": {},
     "output_type": "execute_result"
    }
   ],
   "source": [
    "students.pop()\n",
    "students"
   ]
  },
  {
   "cell_type": "code",
   "execution_count": 10,
   "metadata": {},
   "outputs": [
    {
     "data": {
      "text/plain": [
       "[[78, 92, 65, 86, 74], [78, 95, 63, 72, 74], [62, 55, 73, 93, 64]]"
      ]
     },
     "execution_count": 10,
     "metadata": {},
     "output_type": "execute_result"
    }
   ],
   "source": [
    "students = list()\n",
    "students.append(stu1)\n",
    "students.append(stu2)\n",
    "students.append(stu3)\n",
    "students"
   ]
  },
  {
   "cell_type": "code",
   "execution_count": 16,
   "metadata": {},
   "outputs": [
    {
     "data": {
      "text/plain": [
       "[88, 99, 83, 100, 80]"
      ]
     },
     "execution_count": 16,
     "metadata": {},
     "output_type": "execute_result"
    }
   ],
   "source": [
    "#建立一個學生的5個分數\n",
    "import random\n",
    "stu = []\n",
    "for _ in range(5):\n",
    "    score = (random.randint(50,100))\n",
    "    stu.append(score)\n",
    "\n",
    "stu"
   ]
  },
  {
   "cell_type": "code",
   "execution_count": 17,
   "metadata": {},
   "outputs": [
    {
     "data": {
      "text/plain": [
       "[[90, 97, 87, 74, 82],\n",
       " [92, 55, 77, 96, 57],\n",
       " [90, 54, 87, 96, 71],\n",
       " [54, 73, 75, 93, 79],\n",
       " [97, 78, 63, 70, 94],\n",
       " [68, 81, 80, 58, 72],\n",
       " [50, 77, 93, 68, 68],\n",
       " [94, 52, 59, 97, 55],\n",
       " [58, 53, 50, 92, 93],\n",
       " [66, 67, 64, 61, 66],\n",
       " [89, 95, 84, 60, 59],\n",
       " [77, 72, 75, 84, 69],\n",
       " [59, 50, 76, 74, 53],\n",
       " [98, 70, 80, 59, 96],\n",
       " [57, 72, 98, 81, 70],\n",
       " [78, 72, 60, 77, 71],\n",
       " [79, 76, 50, 50, 55],\n",
       " [79, 50, 97, 92, 51],\n",
       " [77, 90, 75, 85, 85],\n",
       " [53, 74, 100, 98, 59],\n",
       " [51, 64, 85, 89, 52],\n",
       " [78, 85, 73, 66, 95],\n",
       " [84, 71, 75, 75, 76],\n",
       " [72, 92, 90, 99, 93],\n",
       " [75, 64, 95, 82, 80],\n",
       " [83, 52, 77, 94, 98],\n",
       " [84, 55, 63, 53, 59],\n",
       " [66, 99, 87, 95, 98],\n",
       " [95, 51, 86, 92, 50],\n",
       " [69, 62, 54, 87, 97],\n",
       " [87, 75, 58, 67, 77],\n",
       " [62, 88, 96, 72, 67],\n",
       " [65, 54, 74, 100, 80],\n",
       " [87, 88, 78, 72, 79],\n",
       " [53, 68, 51, 57, 91],\n",
       " [93, 66, 52, 96, 53],\n",
       " [70, 88, 65, 61, 87],\n",
       " [60, 100, 74, 84, 80],\n",
       " [99, 61, 88, 53, 91],\n",
       " [57, 100, 100, 89, 56],\n",
       " [91, 50, 79, 76, 56],\n",
       " [52, 83, 51, 75, 100],\n",
       " [50, 85, 89, 59, 83],\n",
       " [64, 89, 50, 100, 70],\n",
       " [67, 65, 60, 58, 98],\n",
       " [78, 72, 69, 95, 76],\n",
       " [99, 78, 53, 99, 74],\n",
       " [56, 67, 50, 67, 87],\n",
       " [92, 50, 54, 50, 74],\n",
       " [87, 54, 77, 70, 65]]"
      ]
     },
     "execution_count": 17,
     "metadata": {},
     "output_type": "execute_result"
    }
   ],
   "source": [
    "#建立一個學生的5個分數\n",
    "#建立50個學生\n",
    "\n",
    "students = [] #先建立50個學生的迴圈\n",
    "for _ in range(50): #先建立50個學生的迴圈\n",
    "    stu = [] #建立每個學生的5個分數\n",
    "    for _ in range(5):\n",
    "        score = (random.randint(50,100))\n",
    "        stu.append(score) #建立每個分數建立後，加入到每個學生stu的score list 中\n",
    "    students.append(stu) \n",
    "\n",
    "students\n"
   ]
  },
  {
   "cell_type": "code",
   "execution_count": 18,
   "metadata": {},
   "outputs": [
    {
     "data": {
      "text/plain": [
       "[[91, 87, 55, 74, 52],\n",
       " [91, 64, 68, 53, 59],\n",
       " [60, 67, 99, 83, 82],\n",
       " [78, 64, 55, 85, 65],\n",
       " [52, 65, 99, 65, 83],\n",
       " [50, 90, 86, 63, 71],\n",
       " [50, 97, 56, 66, 76],\n",
       " [59, 52, 66, 75, 100],\n",
       " [58, 62, 62, 68, 73],\n",
       " [72, 76, 83, 75, 77],\n",
       " [67, 86, 51, 70, 69],\n",
       " [88, 61, 72, 86, 52],\n",
       " [71, 83, 79, 52, 61],\n",
       " [53, 64, 59, 53, 78],\n",
       " [59, 100, 83, 88, 98],\n",
       " [85, 95, 100, 79, 54],\n",
       " [81, 72, 90, 55, 58],\n",
       " [91, 93, 53, 55, 62],\n",
       " [88, 56, 70, 55, 60],\n",
       " [50, 50, 67, 65, 80],\n",
       " [63, 54, 57, 70, 51],\n",
       " [63, 92, 100, 81, 66],\n",
       " [90, 62, 73, 69, 83],\n",
       " [75, 97, 97, 76, 88],\n",
       " [75, 82, 75, 97, 62],\n",
       " [62, 59, 90, 63, 87],\n",
       " [79, 96, 68, 76, 85],\n",
       " [69, 98, 95, 54, 72],\n",
       " [87, 99, 54, 53, 90],\n",
       " [73, 82, 81, 88, 71],\n",
       " [62, 73, 61, 95, 58],\n",
       " [53, 74, 79, 94, 61],\n",
       " [51, 63, 56, 97, 75],\n",
       " [68, 53, 93, 95, 72],\n",
       " [65, 58, 99, 65, 51],\n",
       " [77, 75, 70, 69, 92],\n",
       " [63, 60, 97, 96, 82],\n",
       " [64, 92, 55, 71, 96],\n",
       " [55, 61, 59, 90, 100],\n",
       " [58, 74, 71, 61, 83],\n",
       " [65, 73, 84, 52, 54],\n",
       " [85, 62, 94, 51, 51],\n",
       " [62, 58, 83, 64, 87],\n",
       " [88, 51, 98, 72, 57],\n",
       " [64, 93, 65, 79, 57],\n",
       " [54, 50, 52, 68, 95],\n",
       " [75, 73, 56, 86, 57],\n",
       " [69, 55, 54, 100, 76],\n",
       " [85, 90, 62, 54, 51],\n",
       " [50, 99, 59, 84, 50]]"
      ]
     },
     "execution_count": 18,
     "metadata": {},
     "output_type": "execute_result"
    }
   ],
   "source": [
    "import random\n",
    "def createStudent()->list[int]: #用function的作法, def一個createStudent的函式\n",
    "                                #設定為整數int\n",
    "    stu = []\n",
    "    for _ in range(5):\n",
    "        score = (random.randint(50,100))\n",
    "        stu.append(score)\n",
    "    return stu  #傳回運算的結果至stu\n",
    "\n",
    "classes = []\n",
    "for _ in range(50):\n",
    "    stu = createStudent()\n",
    "    classes.append(stu)\n",
    "classes"
   ]
  },
  {
   "cell_type": "code",
   "execution_count": 2,
   "metadata": {},
   "outputs": [
    {
     "data": {
      "text/plain": [
       "[[80, 72, 89, 78, 55],\n",
       " [58, 94, 68, 90, 59],\n",
       " [83, 89, 69, 85, 64],\n",
       " [99, 94, 91, 78, 61],\n",
       " [91, 70, 76, 83, 96],\n",
       " [66, 86, 58, 71, 66],\n",
       " [85, 66, 81, 61, 98],\n",
       " [86, 78, 73, 77, 85],\n",
       " [59, 64, 73, 90, 57],\n",
       " [87, 85, 72, 84, 62]]"
      ]
     },
     "execution_count": 2,
     "metadata": {},
     "output_type": "execute_result"
    }
   ],
   "source": [
    "import random\n",
    "def createStudent()->list[int]: #用function的作法, def一個createStudent的函式\n",
    "                                #設定為整數int\n",
    "    stu = []\n",
    "    for _ in range(5):\n",
    "        score = (random.randint(50,100))\n",
    "        stu.append(score)\n",
    "    return stu  #傳回運算的結果至stu\n",
    "\n",
    "def createClasses(number:int)->list[int]:\n",
    "    classes = []\n",
    "    for _ in range(number):\n",
    "        stu = createStudent()\n",
    "        classes.append(stu)\n",
    "    return classes\n",
    "\n",
    "createClasses(10)\n"
   ]
  },
  {
   "cell_type": "code",
   "execution_count": 1,
   "metadata": {},
   "outputs": [],
   "source": [
    "#存檔\n",
    "file = open('students.csv',mode='w',encoding='utf-8',newline='')\n",
    "file.close()\n"
   ]
  }
 ],
 "metadata": {
  "kernelspec": {
   "display_name": "Python 3",
   "language": "python",
   "name": "python3"
  },
  "language_info": {
   "codemirror_mode": {
    "name": "ipython",
    "version": 3
   },
   "file_extension": ".py",
   "mimetype": "text/x-python",
   "name": "python",
   "nbconvert_exporter": "python",
   "pygments_lexer": "ipython3",
   "version": "3.10.13"
  }
 },
 "nbformat": 4,
 "nbformat_minor": 2
}
